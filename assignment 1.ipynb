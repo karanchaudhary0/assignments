{
 "cells": [
  {
   "cell_type": "raw",
   "id": "bab61cd3",
   "metadata": {},
   "source": [
    "1. In the below elements which of them are values or an expression? eg:- values can be\n",
    "integer or string and expressions will be mathematical operators.\n",
    "\n",
    "  * = multiplication opreator\n",
    "\n",
    "'hello' = string\n",
    "\n",
    "-87.8 = float\n",
    "\n",
    "- = subtraction opreator\n",
    "\n",
    " / = division opreator\n",
    "\n",
    " + = addition opreator\n",
    "\n",
    " 6 = integer\n",
    "\n"
   ]
  },
  {
   "cell_type": "raw",
   "id": "930b2eb1",
   "metadata": {},
   "source": [
    "2. What is the difference between string and variable?\n",
    "ans. The difference between a string and variable is  \n",
    "     string is a sequence of characters enclosed in either single quotes ('') or double quotes (\"\"). It is a data type used to \n",
    "     represent textual data. Strings can contain letters, numbers, symbols, and spaces.On the other hand a variable is a name        will be able to store a data in computer's memory which we can process in the runtime.\n",
    "     In summary, a string is a specific type of data (a sequence of characters), while a variable is a named container that can      hold different types of data, including strings. we can assign a string to a variable to store and manipulate it within          our program.\n",
    "     \n",
    "   "
   ]
  },
  {
   "cell_type": "raw",
   "id": "1586ab55",
   "metadata": {},
   "source": [
    "3. Describe three different data types.\n",
    "ans. The three different data types are:\n",
    "\n",
    "Integer (int):\n",
    "    The integer data type represents whole numbers without any fractional or decimal parts. It can be positive, negative, or         zero.\n",
    "    example : 0,1,2,,-,1,-2,-3 etc.\n",
    "Float:\n",
    "    The float data type represents numbers with decimal points or fractional parts. Floats are used to represent real numbers.\n",
    "    example: 10.2,-87.8 etc.\n",
    "Boolean (bool):\n",
    "    The boolean data type represents a binary value indicating either true or false. Booleans are useful for conditions and         logical operations.\n",
    "    "
   ]
  },
  {
   "cell_type": "raw",
   "id": "ff9f8ac5",
   "metadata": {},
   "source": [
    "4. What is an expression made up of? What do all expressions do?\n",
    "ans.In Python, an expression is made up of a combination of values, variables, operators, and function calls. \n",
    "   Expressions can be used in various ways, such as assigning values to variables, performing calculations, evaluating       \n",
    "   conditions, or passing arguments to functions. They play a crucial role in controlling program flow, making decisions, and \n",
    "   manipulating data in Python programs"
   ]
  },
  {
   "cell_type": "raw",
   "id": "5557c40e",
   "metadata": {},
   "source": [
    "5. This assignment statements, like spam = 10. What is the difference between an\n",
    "expression and a statement?\n",
    "ans.Expression: An expression is a combination of values, variables, operators, and function calls that can be evaluated to         produce a value.\n",
    "    Statement: A statement, on the other hand, is a complete line of code that performs an action or carries out a specific         task.\n",
    "    In the case of the assignment statement spam = 10, it is a statement that assigns the value 10 to the variable spam. The         expression 10 is used as the value to be assigned, but the statement itself does not produce a value. It modifies the state     of the program by associating the variable spam with the value 10."
   ]
  },
  {
   "cell_type": "raw",
   "id": "9988a056",
   "metadata": {},
   "source": [
    "6.After running the following code, what does the variable bacon contain?\n",
    " bacon = 22\n",
    " bacon + 1\n",
    " \n",
    "ans.The line bacon = 22 assign the value 22 to the variable bacon.However, the next line bacon + 1 does not modify the value of bacon or update the variable. It simply performs the addition operation (bacon + 1), but the result is not assigned to any variable. Therefore, the value of bacon remains unchanged as 22."
   ]
  },
  {
   "cell_type": "code",
   "execution_count": 22,
   "id": "d605704b",
   "metadata": {},
   "outputs": [
    {
     "data": {
      "text/plain": [
       "23"
      ]
     },
     "execution_count": 22,
     "metadata": {},
     "output_type": "execute_result"
    }
   ],
   "source": [
    "bacon =22\n",
    "\n",
    "bacon+1"
   ]
  },
  {
   "cell_type": "raw",
   "id": "20f473c6",
   "metadata": {},
   "source": [
    "7. What should the values of the following two terms be?\n",
    " 'spam'+ 'spamspam'\n",
    "  'spam'*3\n",
    "ans.'spam' + 'spamspam' evaluates to 'spamspamspam'. The + operator concatenates two strings together, resulting in a new string     that combines the characters of both strings,'spam'*3 evaluates to 'spamspamspam' as well.The * operator performs string         repetition, repeating the string .'spam' three times to generate a new string."
   ]
  },
  {
   "cell_type": "code",
   "execution_count": 24,
   "id": "c6e3695e",
   "metadata": {},
   "outputs": [
    {
     "data": {
      "text/plain": [
       "'spamspamspam'"
      ]
     },
     "execution_count": 24,
     "metadata": {},
     "output_type": "execute_result"
    }
   ],
   "source": [
    "'spam'+'spamspam'"
   ]
  },
  {
   "cell_type": "code",
   "execution_count": 23,
   "id": "1baa96ce",
   "metadata": {},
   "outputs": [
    {
     "data": {
      "text/plain": [
       "'spamspamspam'"
      ]
     },
     "execution_count": 23,
     "metadata": {},
     "output_type": "execute_result"
    }
   ],
   "source": [
    "'spam'*3"
   ]
  },
  {
   "cell_type": "raw",
   "id": "5870f09a",
   "metadata": {},
   "source": [
    " 8. Why is eggs a valid variable name while 100 is invalid?\n",
    "ans.In python,variable names must follow certain rules and conventions.\n",
    "   variable must starts with (A-Z,a-z) or an underscore.They cannot begin with a digit.After the first character, variable names    can contain letters, digits, or underscores.Variable names are case-sensitive, meaning that eggs, Eggs, and EGGS are            considered different variables.\n",
    "   "
   ]
  },
  {
   "cell_type": "raw",
   "id": "1baa27cd",
   "metadata": {},
   "source": [
    "9. What three functions can be used to get the integer, floating-point number, or string\n",
    "version of a value?\n",
    "ans. The three function values that can be used to get integer ,floating -point number or string are:\n",
    "    1.int()\n",
    "    2.float()\n",
    "    3.str()\n",
    "   These functions allow you to convert values between different data types, such as integers, floating-point numbers, and          strings.\n",
    "    for example:"
   ]
  },
  {
   "cell_type": "code",
   "execution_count": 18,
   "id": "2f17144f",
   "metadata": {},
   "outputs": [
    {
     "data": {
      "text/plain": [
       "5"
      ]
     },
     "execution_count": 18,
     "metadata": {},
     "output_type": "execute_result"
    }
   ],
   "source": [
    "#integer \n",
    "int(5.7)\n",
    "#in this case 5.7 is a floating point number,which is changed to 5 by using int() function."
   ]
  },
  {
   "cell_type": "code",
   "execution_count": 17,
   "id": "5fbeccda",
   "metadata": {},
   "outputs": [
    {
     "data": {
      "text/plain": [
       "7.0"
      ]
     },
     "execution_count": 17,
     "metadata": {},
     "output_type": "execute_result"
    }
   ],
   "source": [
    "#float\n",
    "float(\"7\")\n",
    "#in this case \"7\" is a string ,which is changes to floating point number by using float() function."
   ]
  },
  {
   "cell_type": "code",
   "execution_count": 16,
   "id": "ee6ecfdc",
   "metadata": {},
   "outputs": [
    {
     "data": {
      "text/plain": [
       "'56'"
      ]
     },
     "execution_count": 16,
     "metadata": {},
     "output_type": "execute_result"
    }
   ],
   "source": [
    "#string\n",
    "str(56)\n",
    "#in this case 56 is a integer , which changed to string by using str() function."
   ]
  },
  {
   "cell_type": "raw",
   "id": "72e52e7b",
   "metadata": {},
   "source": [
    "10. Why does this expression cause an error? How can you fix it?\n",
    "'i have eaten'+ 99+'burritios'\n",
    "ans.The expression 'i have eaten' + 99 + 'burritos' causes an error because it involves concatenating a string ('i have eaten')     with an integer (99). In Python, concatenation between strings is allowed, but you cannot directly concatenate a string with     an integer without converting the integer to a string first.therefore,the correct expression should be,\n",
    "   'i have eaten'+ ' 99 '+'burritios' "
   ]
  },
  {
   "cell_type": "code",
   "execution_count": 21,
   "id": "b513286d",
   "metadata": {},
   "outputs": [
    {
     "data": {
      "text/plain": [
       "'i have eaten 99 burritios'"
      ]
     },
     "execution_count": 21,
     "metadata": {},
     "output_type": "execute_result"
    }
   ],
   "source": [
    "   'i have eaten'+ ' 99 '+'burritios'"
   ]
  },
  {
   "cell_type": "code",
   "execution_count": null,
   "id": "937d0d0d",
   "metadata": {},
   "outputs": [],
   "source": []
  }
 ],
 "metadata": {
  "kernelspec": {
   "display_name": "Python 3 (ipykernel)",
   "language": "python",
   "name": "python3"
  },
  "language_info": {
   "codemirror_mode": {
    "name": "ipython",
    "version": 3
   },
   "file_extension": ".py",
   "mimetype": "text/x-python",
   "name": "python",
   "nbconvert_exporter": "python",
   "pygments_lexer": "ipython3",
   "version": "3.10.9"
  },
  "widgets": {
   "application/vnd.jupyter.widget-state+json": {
    "state": {},
    "version_major": 2,
    "version_minor": 0
   }
  }
 },
 "nbformat": 4,
 "nbformat_minor": 5
}
